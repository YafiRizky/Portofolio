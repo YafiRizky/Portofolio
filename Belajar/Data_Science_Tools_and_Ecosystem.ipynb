{
 "cells": [
  {
   "cell_type": "markdown",
   "id": "8dfa7aa7",
   "metadata": {},
   "source": [
    "# Data Science Tools and Ecosystem"
   ]
  },
  {
   "cell_type": "markdown",
   "id": "bc77c555",
   "metadata": {},
   "source": [
    "## Intro\n",
    "\n",
    "#### In this notebook, Data Science Tools and Ecosystem are summarized."
   ]
  },
  {
   "cell_type": "markdown",
   "id": "78a2d318-bffb-47bf-b041-5a33f3fc938b",
   "metadata": {},
   "source": [
    "## List Of Language for Data Science\n",
    "\n",
    "#### Some of the popular languages that Data Scientists use are:\n",
    "\n",
    "    1.Python\n",
    "    2.R\n",
    "    3.C \n",
    "    4.C++\n",
    "    5.Java"
   ]
  },
  {
   "cell_type": "markdown",
   "id": "0847031f-505d-4901-aa62-bb74a447508a",
   "metadata": {},
   "source": [
    "## Libary For Data Science\n",
    "\n",
    "### Some of the commonly used libraries used by Data Scientists include:\n",
    "\n",
    "    1.Pandas (Data manipulation and analysis)\n",
    "    2.Numpy (Matrix & Numerical Computing)\n",
    "    3.Scikit-Learn (Machine Learning Basic & Model)\n",
    "    4.Tensor-flow (Deep Learning)\n",
    "    5.Pytorch (Deep Learning Framework)\n",
    "    6.Matplotlib (Interactive Data Visualization)\n",
    "    7.Seaborn (Statistical bulit for visual)"
   ]
  },
  {
   "cell_type": "markdown",
   "id": "fad1aeae-dcd7-4096-8017-9a911fdcdab7",
   "metadata": {},
   "source": [
    "## Data Science Tools:\n",
    "\n",
    "| Data Science Tools       |\r\n",
    "|--------------------------|\r\n",
    "| Jupyter Notebook         |\r\n",
    "| RStudio                  |\r\n",
    "| Visual Studio Code (VS Cod\n",
    "| Hadoop |\n",
    "| Anaconda |\n",
    "| Git & GitHub |\n",
    "| Apache Spark |e) |"
   ]
  },
  {
   "cell_type": "markdown",
   "id": "910a8ddd-6579-434e-af00-4ae2eef62047",
   "metadata": {},
   "source": [
    "## Aritmathic Expression In Python\n",
    "\n",
    "### Below are a few examples of evaluating arithmetic expressions in Python:\n",
    "\n",
    "    1. + ( Additon )\n",
    "    2. - ( Subtraction )\n",
    "    3. / ( Division )\n",
    "    4. * ( Multipication)\n",
    "    5. ** ( Power / Exponentiation ) "
   ]
  },
  {
   "cell_type": "markdown",
   "id": "ecc997ad-0594-4713-8dbd-bc2149a8bab1",
   "metadata": {},
   "source": [
    "## Exercise 8\n",
    "\n",
    "#### (3*4)+5\n",
    "\n",
    "### This a simple arithmetic expression to mutiply then add integers"
   ]
  },
  {
   "cell_type": "code",
   "execution_count": 6,
   "id": "fcbc986f-88e6-4fb0-8209-f4448fc97675",
   "metadata": {},
   "outputs": [
    {
     "name": "stdout",
     "output_type": "stream",
     "text": [
      "17\n"
     ]
    }
   ],
   "source": [
    "## Code\n",
    "\n",
    "Sample = (3*4) + 5\n",
    "print(Sample)"
   ]
  },
  {
   "cell_type": "markdown",
   "id": "ad8f2591-2842-4e3a-a79d-445a0ef68704",
   "metadata": {},
   "source": [
    "## Exercise 9 \n",
    "\n",
    "### 200 minutes into hours\n",
    "#### This will convert 200 minutes to hours by diving by 60"
   ]
  },
  {
   "cell_type": "code",
   "execution_count": 7,
   "id": "1061796a-62fe-4d0c-81e3-6c81206d6914",
   "metadata": {},
   "outputs": [
    {
     "name": "stdout",
     "output_type": "stream",
     "text": [
      "3\n"
     ]
    }
   ],
   "source": [
    "x = 200\n",
    "y = 60\n",
    "Hours = x/ y\n",
    "print(int(Hours))"
   ]
  },
  {
   "cell_type": "markdown",
   "id": "0c7e70eb-414a-4781-9809-15af578c34ae",
   "metadata": {},
   "source": [
    "## **Obejctive:**\n",
    "\n",
    "- Intro\n",
    "- List Of Language for Data Science\n",
    "- Libary for Data Science\n",
    "- Tools for Data Science\n",
    "- Aritmathic Expression In Python"
   ]
  },
  {
   "cell_type": "markdown",
   "id": "f3f7eef1-08d2-42d9-89a3-696d2089da8c",
   "metadata": {},
   "source": [
    "## Author \n",
    "\n",
    "### __Yafi Rizky Kurniawan__"
   ]
  },
  {
   "cell_type": "code",
   "execution_count": null,
   "id": "2552c896-14bb-4180-8986-d2194cef16dd",
   "metadata": {},
   "outputs": [],
   "source": []
  }
 ],
 "metadata": {
  "kernelspec": {
   "display_name": "Python 3 (ipykernel)",
   "language": "python",
   "name": "python3"
  },
  "language_info": {
   "codemirror_mode": {
    "name": "ipython",
    "version": 3
   },
   "file_extension": ".py",
   "mimetype": "text/x-python",
   "name": "python",
   "nbconvert_exporter": "python",
   "pygments_lexer": "ipython3",
   "version": "3.12.4"
  }
 },
 "nbformat": 4,
 "nbformat_minor": 5
}
