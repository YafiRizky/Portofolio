{
  "cells": [
    {
      "cell_type": "markdown",
      "metadata": {
        "id": "OpwZE1k-uyLV"
      },
      "source": [
        "# Import Library"
      ]
    },
    {
      "cell_type": "code",
      "execution_count": 7,
      "metadata": {
        "id": "jL1HH8G-Xj0O"
      },
      "outputs": [],
      "source": [
        "import pandas as pd\n",
        "import numpy as np\n",
        "from sklearn.metrics.pairwise import cosine_similarity"
      ]
    },
    {
      "cell_type": "markdown",
      "metadata": {
        "id": "3Jj9LAKdu2d4"
      },
      "source": [
        "# Load Dataset"
      ]
    },
    {
      "cell_type": "code",
      "execution_count": 8,
      "metadata": {
        "id": "64rXiLJvXkuV"
      },
      "outputs": [],
      "source": [
        "# Load dataset\n",
        "df = r\"D:\\Analyst_Portofolio\\Most_Streamed_Spotify_Song\\data_raw\\spotify-2023.csv\""
      ]
    },
    {
      "cell_type": "code",
      "execution_count": 9,
      "metadata": {
        "colab": {
          "base_uri": "https://localhost:8080/",
          "height": 617
        },
        "id": "fhDgJUREu5Cs",
        "outputId": "8af49e43-a12b-4f82-a073-e71eb6dd1185"
      },
      "outputs": [
        {
          "data": {
            "text/plain": [
              "'D:\\\\Analyst_Portofolio\\\\Most_Streamed_Spotify_Song\\\\data_raw\\\\spotify-2023.csv'"
            ]
          },
          "execution_count": 9,
          "metadata": {},
          "output_type": "execute_result"
        }
      ],
      "source": [
        "df"
      ]
    },
    {
      "cell_type": "markdown",
      "metadata": {
        "id": "B-nJvgdhu_mg"
      },
      "source": [
        "# Pre-Processing"
      ]
    },
    {
      "cell_type": "code",
      "execution_count": 10,
      "metadata": {
        "id": "MSar0SCCXmQ3"
      },
      "outputs": [],
      "source": [
        "# Load the CSV file into a DataFrame if not already loaded\n",
        "if isinstance(df, str):\n",
        "\tdf = pd.read_csv(df, encoding='latin1')\n",
        "\n",
        "# Tambahkan ID unik untuk setiap lagu\n",
        "df['track_id'] = range(len(df))"
      ]
    },
    {
      "cell_type": "code",
      "execution_count": 11,
      "metadata": {
        "id": "If5nYfhxXow3"
      },
      "outputs": [],
      "source": [
        "# Simulasi 50 pengguna, masing-masing menyukai 10-30 lagu secara acak\n",
        "num_users = 50\n",
        "np.random.seed(42)\n",
        "user_ids = [f'user_{i+1}' for i in range(num_users)]\n",
        "user_track_matrix = pd.DataFrame(0, index=user_ids, columns=df['track_id'])\n",
        "\n",
        "for user in user_track_matrix.index:\n",
        "    liked_ids = np.random.choice(df['track_id'], size=np.random.randint(10, 30), replace=False)\n",
        "    user_track_matrix.loc[user, liked_ids] = 1"
      ]
    },
    {
      "cell_type": "markdown",
      "metadata": {
        "id": "XbS6kymvvEnw"
      },
      "source": [
        "# Hitung Similarity"
      ]
    },
    {
      "cell_type": "code",
      "execution_count": 12,
      "metadata": {
        "id": "3ZH0Hu0fXszD"
      },
      "outputs": [],
      "source": [
        "# Hitung cosine similarity antar pengguna\n",
        "user_similarity = cosine_similarity(user_track_matrix.values)\n",
        "user_similarity_df = pd.DataFrame(user_similarity, index=user_track_matrix.index, columns=user_track_matrix.index)\n",
        "\n",
        "def recommend_collaborative(user_id, top_n=5):\n",
        "    if user_id not in user_track_matrix.index:\n",
        "        return f\"User {user_id} tidak ditemukan.\"\n",
        "\n",
        "    sim_scores = user_similarity_df[user_id]\n",
        "    other_users_matrix = user_track_matrix.drop(index=user_id)\n",
        "    sim_scores_others = sim_scores.drop(index=user_id)\n",
        "\n",
        "    scores = other_users_matrix.T.dot(sim_scores_others)\n",
        "    scores = scores / sim_scores_others.sum()\n",
        "\n",
        "    user_interactions = user_track_matrix.loc[user_id]\n",
        "    unseen_scores = scores[user_interactions == 0]\n",
        "\n",
        "    top_recs = unseen_scores.sort_values(ascending=False).head(top_n).index\n",
        "    return df[df['track_id'].isin(top_recs)][['track_name', 'artist(s)_name']]"
      ]
    },
    {
      "cell_type": "markdown",
      "metadata": {
        "id": "0vZxb2jovIXI"
      },
      "source": [
        "# Pengujian"
      ]
    },
    {
      "cell_type": "code",
      "execution_count": 13,
      "metadata": {
        "colab": {
          "base_uri": "https://localhost:8080/"
        },
        "id": "5yD8bcGEXwUc",
        "outputId": "fdd1c619-970d-4db8-e490-bedc0a0066b6"
      },
      "outputs": [
        {
          "name": "stdout",
          "output_type": "stream",
          "text": [
            "Sistem Rekomendasi Lagu - Collaborative Filtering\n",
            "\n",
            "Rekomendasi:\n",
            "User 2 tidak ditemukan.\n"
          ]
        }
      ],
      "source": [
        "# Contoh penggunaan\n",
        "if __name__ == \"__main__\":\n",
        "    print(\"Sistem Rekomendasi Lagu - Collaborative Filtering\")\n",
        "    user_input = input(\"Masukkan user ID (contoh: user_1): \")\n",
        "    results = recommend_collaborative(user_input)\n",
        "    print(\"\\nRekomendasi:\")\n",
        "    print(results)"
      ]
    }
  ],
  "metadata": {
    "colab": {
      "provenance": []
    },
    "kernelspec": {
      "display_name": "base",
      "language": "python",
      "name": "python3"
    },
    "language_info": {
      "codemirror_mode": {
        "name": "ipython",
        "version": 3
      },
      "file_extension": ".py",
      "mimetype": "text/x-python",
      "name": "python",
      "nbconvert_exporter": "python",
      "pygments_lexer": "ipython3",
      "version": "3.12.4"
    }
  },
  "nbformat": 4,
  "nbformat_minor": 0
}
